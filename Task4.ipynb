{
 "cells": [
  {
   "cell_type": "code",
   "execution_count": 1,
   "metadata": {},
   "outputs": [],
   "source": [
    "import numpy as np\n",
    "import cv2\n",
    "path = r\"\"\"/Users/priyanshu/Desktop/red.jpg\"\"\"\n",
    "image = cv2.imread(path)\n",
    "y = cv2.resize(image,(400,400))\n",
    "z_copy = np.copy(y)\n",
    "z_copy[(z_copy[:,:,0]>80) | (z_copy[:,:,1]>80) | (z_copy[:,:,2]<120)] = 0\n",
    "cv2.imshow('Image',z_copy)\n",
    "cv2.waitKey()\n",
    "cv2.destroyAllWindows()"
   ]
  }
 ],
 "metadata": {
  "kernelspec": {
   "display_name": "Python 3",
   "language": "python",
   "name": "python3"
  },
  "language_info": {
   "codemirror_mode": {
    "name": "ipython",
    "version": 3
   },
   "file_extension": ".py",
   "mimetype": "text/x-python",
   "name": "python",
   "nbconvert_exporter": "python",
   "pygments_lexer": "ipython3",
   "version": "3.11.2"
  },
  "orig_nbformat": 4
 },
 "nbformat": 4,
 "nbformat_minor": 2
}
