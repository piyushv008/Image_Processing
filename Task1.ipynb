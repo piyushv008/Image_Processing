{
 "cells": [
  {
   "cell_type": "code",
   "execution_count": 22,
   "id": "e75182db",
   "metadata": {},
   "outputs": [
    {
     "name": "stdout",
     "output_type": "stream",
     "text": [
      "The version of cv is 4.7.0\n"
     ]
    }
   ],
   "source": [
    "import cv2\n",
    "print(\"The version of cv is\",cv2.__version__)"
   ]
  },
  {
   "cell_type": "code",
   "execution_count": null,
   "id": "d50126b5",
   "metadata": {},
   "outputs": [],
   "source": [
    "import cv2\n",
    "path=r\"\"\"\\Users\\priyanshu\\Desktop\"\"\"\n",
    "img_name = \"Users\\priyanshu\\Desktop\\1.jpg\"\n",
    "x=cv2.imread(path+\"\\\\\"+img_name)\n",
    "cv2.imshow(\"This is the first image\",x)\n",
    "cv2.waitKey(0)\n",
    "cv2.destroyAllWindows()"
   ]
  },
  {
   "cell_type": "code",
   "execution_count": null,
   "id": "77201dc3",
   "metadata": {},
   "outputs": [],
   "source": [
    "import cv2\n",
    "path = r\"\"\"/Users/priyanshu/Desktop/2.png\"\"\"\n",
    "image = cv2.imread(path)\n",
    "y = cv2.resize(image,(400,400))\n",
    "cv2.imshow('Image', y)\n",
    "cv2.waitKey()\n",
    "cv2.destroyAllWindows()"
   ]
  },
  {
   "cell_type": "code",
   "execution_count": null,
   "id": "a2c684d0",
   "metadata": {},
   "outputs": [],
   "source": [
    "cv2.cvtColor(image1,cv2.COLOR_BGR2GRAY)"
   ]
  }
 ],
 "metadata": {
  "kernelspec": {
   "display_name": "Python 3 (ipykernel)",
   "language": "python",
   "name": "python3"
  },
  "language_info": {
   "codemirror_mode": {
    "name": "ipython",
    "version": 3
   },
   "file_extension": ".py",
   "mimetype": "text/x-python",
   "name": "python",
   "nbconvert_exporter": "python",
   "pygments_lexer": "ipython3",
   "version": "3.11.2"
  }
 },
 "nbformat": 4,
 "nbformat_minor": 5
}
